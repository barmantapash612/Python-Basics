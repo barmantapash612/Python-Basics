{
  "nbformat": 4,
  "nbformat_minor": 0,
  "metadata": {
    "colab": {
      "provenance": [],
      "collapsed_sections": [
        "9h8Z5fYRSSyC"
      ]
    },
    "kernelspec": {
      "name": "python3",
      "display_name": "Python 3"
    },
    "language_info": {
      "name": "python"
    }
  },
  "cells": [
    {
      "cell_type": "markdown",
      "source": [
        "#                        Python Basics Questions"
      ],
      "metadata": {
        "id": "9h8Z5fYRSSyC"
      }
    },
    {
      "cell_type": "markdown",
      "source": [
        "**1 . What is Python, and why is it popular?**                                                                              \n",
        " ◾- Python is a high-level, interpreted programming language known for its simplicity and readability. It was created by Guido van Rossum and released in 1991. Python is widely used in web development, data science,data analysis, AI, automation, and more.\n",
        "\n",
        "  ◼- Python is popular because it is easy to learn, versatile, and has a simple syntax. It offers powerful libraries, is cross-platform, and is widely used in AI, data science, web development, and automation. Plus, it has a large community for support.\n",
        ""
      ],
      "metadata": {
        "id": "nyYK62421DT0"
      }
    },
    {
      "cell_type": "markdown",
      "source": [
        "**2 .What is an interpreter in Python?**\n",
        "\n",
        " ◼-In Python, an interpreter is a program that executes Python code line by line rather than compiling the whole code at once.\n",
        "\n",
        "◾\n",
        "1 . Reads and executes Python code directly without needing compilation.\n",
        "\n",
        "2 . Provides an interactive mode (REPL) where you can run commands one by one.\n",
        "\n",
        "3 . Makes debugging easier since errors are detected at runtime.\n",
        "\n",
        "4 . Allows cross-platform execution (works on Windows, macOS, and Linux).\n",
        "\n",
        "Popular Python interpreters include CPython (default), PyPy, Jython, and IronPython.\n",
        "\n",
        "\n",
        "\n",
        "\n",
        "\n",
        "\n",
        "\n",
        "\n"
      ],
      "metadata": {
        "id": "huzaxNHL6oey"
      }
    },
    {
      "cell_type": "markdown",
      "source": [
        "**3 . What are pre-defined keywords in Python?**   \n",
        "\n",
        "◼ Python keywords are reserved words with special meanings that cannot be used as variable or function names.\n",
        "\n",
        "Control Flow: if, else, for, while, break\n",
        "\n",
        "Logical Operators: and, or, not, in, is\n",
        "\n",
        "Functions & Classes: def, class, return, lambda\n",
        "\n",
        "Exception Handling: try, except, raise, assert"
      ],
      "metadata": {
        "id": "Lab7mto_6qzL"
      }
    },
    {
      "cell_type": "markdown",
      "source": [
        "**4 .Can keywords be used as variable names?**\n",
        "\n",
        "◼No, keywords cannot be used as variable names in Python because they are reserved words that have special meanings."
      ],
      "metadata": {
        "id": "R66QPDsP_4sU"
      }
    },
    {
      "cell_type": "markdown",
      "source": [
        "**5 .What is mutability in Python?**\n",
        "\n",
        "◼ Mutability in Python refers to whether an object’s value can be changed after it is created."
      ],
      "metadata": {
        "id": "SCpZTpkT_5oL"
      }
    },
    {
      "cell_type": "markdown",
      "source": [
        "**6 .Why are lists mutable, but tuples are immutable?**\n",
        "\n",
        "◼\n",
        "\n",
        "1 .Lists (list) are mutable ✅ because they allow modification (adding, removing, changing elements).\n",
        "\n",
        "2 .Tuples (tuple) are immutable ❌ because they are stored in fixed memory and cannot be changed after creation."
      ],
      "metadata": {
        "id": "_FA4-qNk_6-n"
      }
    },
    {
      "cell_type": "markdown",
      "source": [
        "**7 .What is the difference between “==” and “is” operators in Python?**\n",
        "\n",
        "◼  \n",
        " == (Value Comparison) ✅ → Checks if values are the same.\n",
        "\n",
        "is (Identity Comparison) ❌ → Checks if objects have the same memory address."
      ],
      "metadata": {
        "id": "bgapDAOx_7gM"
      }
    },
    {
      "cell_type": "markdown",
      "source": [
        "**8.What are logical operators in Python?**\n",
        "\n",
        "◼Logical operators are used to combine conditional statements.\n",
        "\n",
        " 1 . and\tReturns True if both conditions are True\n",
        "\n",
        "2 .or\tReturns True if at least one condition is True\n",
        "True\n",
        "\n",
        "3 .not\tReverses the result (negation)"
      ],
      "metadata": {
        "id": "UdoV9lPX_8L-"
      }
    },
    {
      "cell_type": "markdown",
      "source": [
        "**9 .What is type casting in Python?**\n",
        "\n",
        "◼Type casting is converting one data type into another.\n",
        "\n",
        "**Implicit Casting (Automatic):**  Python converts smaller types to larger ones\n",
        "\n",
        "**Explicit Casting (Manual):**  Done using int(), float(), str(), etc."
      ],
      "metadata": {
        "id": "aA3Ki_EtA3OZ"
      }
    },
    {
      "cell_type": "markdown",
      "source": [
        "**10 .What is the difference between implicit and explicit type casting?**\n",
        "\n",
        "◾\n",
        "Implicit Casting :  \n",
        "\n",
        "Python automatically converts types.\n",
        "\n",
        "◼ Explicit Casting:\n",
        "\n",
        " Done manually using int(), float(), str()."
      ],
      "metadata": {
        "id": "uHwLLhnRBBLx"
      }
    },
    {
      "cell_type": "markdown",
      "source": [
        "**11. What is the purpose of conditional statements in Python?**\n",
        "\n",
        "◼ Conditional statements control the flow of a program by executing different blocks based on conditions.\n",
        "\n",
        "Types:\n",
        " if → Executes if condition is True\n",
        "\n",
        " if-else → Chooses between two options\n",
        "\n",
        " if-elif-else → Checks multiple conditions\n",
        "\n",
        " nested if → if inside another if"
      ],
      "metadata": {
        "id": "h1wr0J9ZBCPe"
      }
    },
    {
      "cell_type": "markdown",
      "source": [
        "**12 .How does the elif statement work?**\n",
        "\n",
        "◼ The elif (\"else if\") statement checks multiple conditions and executes the first True condition."
      ],
      "metadata": {
        "id": "62N8TQqHBDK1"
      }
    },
    {
      "cell_type": "markdown",
      "source": [
        "**13 . What is the difference between for and while loops?**\n",
        "\n",
        "◼\n",
        "\n",
        "**for Loop :**\t  Used when iterations are known (loops over a sequence)\n",
        "\n",
        "**while Loop :**  \tUsed when iterations are unknown (runs until a condition is False)."
      ],
      "metadata": {
        "id": "NCAQIKymBSr8"
      }
    },
    {
      "cell_type": "markdown",
      "source": [
        "**14 .Describe a scenario where a while loop is more suitable than a for loop.**\n",
        "\n",
        "◼A while loop is best when the number of iterations is unknown and depends on a condition being met.\n"
      ],
      "metadata": {
        "id": "6gGo6HyBBabt"
      }
    },
    {
      "cell_type": "markdown",
      "source": [
        "#                       **Practical Questions**"
      ],
      "metadata": {
        "id": "5Ip2ESsnR4su"
      }
    },
    {
      "cell_type": "code",
      "source": [
        "print(\"Hello, World!\")     #1 Write a Python program to print \"Hello, World!\""
      ],
      "metadata": {
        "colab": {
          "base_uri": "https://localhost:8080/"
        },
        "id": "BLv9t9reSr9C",
        "outputId": "f6546d61-eef9-42ce-b086-db06f4edf7a3"
      },
      "execution_count": 2,
      "outputs": [
        {
          "output_type": "stream",
          "name": "stdout",
          "text": [
            "Hello, World!\n"
          ]
        }
      ]
    },
    {
      "cell_type": "code",
      "source": [
        "# 2 Write a Python program that displays your name and age.\n",
        "\n",
        "print(\"My name is\", 'tapash')\n",
        "print(\"I am\", 26, \"years old\")"
      ],
      "metadata": {
        "colab": {
          "base_uri": "https://localhost:8080/"
        },
        "id": "S8oARaDvTOB_",
        "outputId": "38ae7fd7-4334-4335-db63-83c2c687e44b"
      },
      "execution_count": 4,
      "outputs": [
        {
          "output_type": "stream",
          "name": "stdout",
          "text": [
            "My name is tapash\n",
            "I am 26 years old\n"
          ]
        }
      ]
    },
    {
      "cell_type": "code",
      "source": [
        "#3 Write code to print all the pre-defined keywords in Python using the keyword library\n",
        "import keyword\n",
        "print(keyword.kwlist)"
      ],
      "metadata": {
        "colab": {
          "base_uri": "https://localhost:8080/"
        },
        "id": "TsZt8lqNUqFI",
        "outputId": "c8fa0193-022d-4ea1-c66d-13dd31c44171"
      },
      "execution_count": 6,
      "outputs": [
        {
          "output_type": "stream",
          "name": "stdout",
          "text": [
            "['False', 'None', 'True', 'and', 'as', 'assert', 'async', 'await', 'break', 'class', 'continue', 'def', 'del', 'elif', 'else', 'except', 'finally', 'for', 'from', 'global', 'if', 'import', 'in', 'is', 'lambda', 'nonlocal', 'not', 'or', 'pass', 'raise', 'return', 'try', 'while', 'with', 'yield']\n"
          ]
        }
      ]
    },
    {
      "cell_type": "code",
      "source": [
        "#4 Write a program that checks if a given word is a Python keyword\n",
        "\n",
        "import keyword\n",
        "word = input(\"Enter a word: \")\n",
        "if keyword.iskeyword(word):\n",
        "    print(f\"'{word}' is a Python keyword.\")\n",
        "else:\n",
        "    print(f\"'{word}' is NOT a Python keyword.\")"
      ],
      "metadata": {
        "colab": {
          "base_uri": "https://localhost:8080/"
        },
        "id": "Jxhc2NojVw_m",
        "outputId": "e1a6cf38-2d9e-4a68-a800-a0a8c5e59dbf"
      },
      "execution_count": 7,
      "outputs": [
        {
          "output_type": "stream",
          "name": "stdout",
          "text": [
            "Enter a word: None\n",
            "'None' is a Python keyword.\n"
          ]
        }
      ]
    },
    {
      "cell_type": "code",
      "source": [
        "'''5 :- Create a list and tuple in Python, and demonstrate how attempting to change an element works differently\n",
        "for each'''\n",
        "\n",
        "my_list = [1, 2, 3, 4, 5, 6, 7, 8]\n",
        "my_list[0] = 10\n",
        "print( my_list)"
      ],
      "metadata": {
        "colab": {
          "base_uri": "https://localhost:8080/"
        },
        "id": "8Ma7SI7aWjKZ",
        "outputId": "e2934208-1eea-4d52-d969-57c5951131c7"
      },
      "execution_count": 11,
      "outputs": [
        {
          "output_type": "stream",
          "name": "stdout",
          "text": [
            "[10, 2, 3, 4, 5, 6, 7, 8]\n"
          ]
        }
      ]
    },
    {
      "cell_type": "code",
      "source": [
        "my_tuple = (1, 2, 3, 4, 5, 6 ,7)\n",
        "my_tuple[0] = 10\n",
        "print( my_tuple)"
      ],
      "metadata": {
        "colab": {
          "base_uri": "https://localhost:8080/",
          "height": 176
        },
        "id": "hT3MWwgiYJGD",
        "outputId": "e025e4a5-ed35-4be4-f36a-4329cb743dd9"
      },
      "execution_count": 52,
      "outputs": [
        {
          "output_type": "error",
          "ename": "TypeError",
          "evalue": "'tuple' object does not support item assignment",
          "traceback": [
            "\u001b[0;31m---------------------------------------------------------------------------\u001b[0m",
            "\u001b[0;31mTypeError\u001b[0m                                 Traceback (most recent call last)",
            "\u001b[0;32m<ipython-input-52-77fbcb2dd17a>\u001b[0m in \u001b[0;36m<cell line: 0>\u001b[0;34m()\u001b[0m\n\u001b[1;32m      1\u001b[0m \u001b[0mmy_tuple\u001b[0m \u001b[0;34m=\u001b[0m \u001b[0;34m(\u001b[0m\u001b[0;36m1\u001b[0m\u001b[0;34m,\u001b[0m \u001b[0;36m2\u001b[0m\u001b[0;34m,\u001b[0m \u001b[0;36m3\u001b[0m\u001b[0;34m,\u001b[0m \u001b[0;36m4\u001b[0m\u001b[0;34m,\u001b[0m \u001b[0;36m5\u001b[0m\u001b[0;34m,\u001b[0m \u001b[0;36m6\u001b[0m \u001b[0;34m,\u001b[0m\u001b[0;36m7\u001b[0m\u001b[0;34m)\u001b[0m\u001b[0;34m\u001b[0m\u001b[0;34m\u001b[0m\u001b[0m\n\u001b[0;32m----> 2\u001b[0;31m \u001b[0mmy_tuple\u001b[0m\u001b[0;34m[\u001b[0m\u001b[0;36m0\u001b[0m\u001b[0;34m]\u001b[0m \u001b[0;34m=\u001b[0m \u001b[0;36m10\u001b[0m\u001b[0;34m\u001b[0m\u001b[0;34m\u001b[0m\u001b[0m\n\u001b[0m\u001b[1;32m      3\u001b[0m \u001b[0mprint\u001b[0m\u001b[0;34m(\u001b[0m \u001b[0mmy_tuple\u001b[0m\u001b[0;34m)\u001b[0m\u001b[0;34m\u001b[0m\u001b[0;34m\u001b[0m\u001b[0m\n",
            "\u001b[0;31mTypeError\u001b[0m: 'tuple' object does not support item assignment"
          ]
        }
      ]
    },
    {
      "cell_type": "code",
      "source": [
        "''' 6 : Write a function to demonstrate the behavior of mutable and immutable arguments.'''\n",
        "def modify_data(num, lst):\n",
        "    num += 10  # Immutable: Changes won't reflect outside\n",
        "    lst.append(4)  # Mutable: Changes will reflect outside\n",
        "\n",
        "# Immutable Argument (Integer)\n",
        "x = 5\n",
        "# Mutable Argument (List)\n",
        "y = [1, 2, 3]\n",
        "\n",
        "modify_data(x, y)\n",
        "\n",
        "print(\"After function call:\")\n",
        "print(\"Integer (Immutable):\", x)  # ❌ Unchanged (Immutable)\n",
        "print(\"List (Mutable):\", y)  # ✅ Changed (Mutable)\n",
        "\n"
      ],
      "metadata": {
        "colab": {
          "base_uri": "https://localhost:8080/"
        },
        "id": "VAKsd4ZLY2-k",
        "outputId": "590ba8c0-59d0-47aa-f103-45ed633eaff1"
      },
      "execution_count": 13,
      "outputs": [
        {
          "output_type": "stream",
          "name": "stdout",
          "text": [
            "After function call:\n",
            "Integer (Immutable): 5\n",
            "List (Mutable): [1, 2, 3, 4]\n"
          ]
        }
      ]
    },
    {
      "cell_type": "code",
      "source": [
        "#7:-Write a function to demonstrate the behavior of mutable and immutable arguments\n",
        "def modify_values(immutable_var, mutable_var):\n",
        "    immutable_var += 10\n",
        "    print(\"Inside function (Immutable):\", immutable_var)\n",
        "    mutable_var.append(4)\n",
        "    print(\"Inside function (Mutable):\", mutable_var)\n",
        "num = 5\n",
        "lst = [1, 2, 3]\n",
        "modify_values(num, lst)\n",
        "print(\"After function call:\")\n",
        "print(\"Integer (Immutable):\", num)\n",
        "print(\"List (Mutable):\", lst)\n",
        "\n"
      ],
      "metadata": {
        "colab": {
          "base_uri": "https://localhost:8080/"
        },
        "id": "jNTCz-16aHzq",
        "outputId": "805243c7-e0d0-4a6d-84ff-2b54e7a78a84"
      },
      "execution_count": 15,
      "outputs": [
        {
          "output_type": "stream",
          "name": "stdout",
          "text": [
            "Inside function (Immutable): 15\n",
            "Inside function (Mutable): [1, 2, 3, 4]\n",
            "After function call:\n",
            "Integer (Immutable): 5\n",
            "List (Mutable): [1, 2, 3, 4]\n"
          ]
        }
      ]
    },
    {
      "cell_type": "code",
      "source": [
        "'''8 :-Write a program to demonstrate the use of logical operators'''\n",
        "x = 10\n",
        "y = 5\n",
        "print(x > 5 and y < 10)\n",
        "print(x < 5 or y < 10)\n",
        "print(not (x > 5))"
      ],
      "metadata": {
        "colab": {
          "base_uri": "https://localhost:8080/"
        },
        "id": "FHPGtTs5bak2",
        "outputId": "fa725cb6-532e-4a99-901b-3f0d2a3df590"
      },
      "execution_count": 16,
      "outputs": [
        {
          "output_type": "stream",
          "name": "stdout",
          "text": [
            "True\n",
            "True\n",
            "False\n"
          ]
        }
      ]
    },
    {
      "cell_type": "code",
      "source": [
        "# Get user input # 9\n",
        "user_input = input(\"Enter a number: \")\n",
        "\n",
        "# Convert and print\n",
        "print(\"Integer:\", int(user_input))\n",
        "print(\"Float:\", float(user_input))\n",
        "print(\"Boolean:\", bool(int(user_input)))\n"
      ],
      "metadata": {
        "colab": {
          "base_uri": "https://localhost:8080/",
          "height": 211
        },
        "id": "6uFU-vsgf7_M",
        "outputId": "956973a5-a940-43d6-8b74-0b2ac32f5a00"
      },
      "execution_count": 53,
      "outputs": [
        {
          "output_type": "error",
          "ename": "TypeError",
          "evalue": "'str' object is not callable",
          "traceback": [
            "\u001b[0;31m---------------------------------------------------------------------------\u001b[0m",
            "\u001b[0;31mTypeError\u001b[0m                                 Traceback (most recent call last)",
            "\u001b[0;32m<ipython-input-53-3d3fe246f5ae>\u001b[0m in \u001b[0;36m<cell line: 0>\u001b[0;34m()\u001b[0m\n\u001b[1;32m      1\u001b[0m \u001b[0;31m# Get user input # 9\u001b[0m\u001b[0;34m\u001b[0m\u001b[0;34m\u001b[0m\u001b[0m\n\u001b[0;32m----> 2\u001b[0;31m \u001b[0muser_input\u001b[0m \u001b[0;34m=\u001b[0m \u001b[0minput\u001b[0m\u001b[0;34m(\u001b[0m\u001b[0;34m\"Enter a number: \"\u001b[0m\u001b[0;34m)\u001b[0m\u001b[0;34m\u001b[0m\u001b[0;34m\u001b[0m\u001b[0m\n\u001b[0m\u001b[1;32m      3\u001b[0m \u001b[0;34m\u001b[0m\u001b[0m\n\u001b[1;32m      4\u001b[0m \u001b[0;31m# Convert and print\u001b[0m\u001b[0;34m\u001b[0m\u001b[0;34m\u001b[0m\u001b[0m\n\u001b[1;32m      5\u001b[0m \u001b[0mprint\u001b[0m\u001b[0;34m(\u001b[0m\u001b[0;34m\"Integer:\"\u001b[0m\u001b[0;34m,\u001b[0m \u001b[0mint\u001b[0m\u001b[0;34m(\u001b[0m\u001b[0muser_input\u001b[0m\u001b[0;34m)\u001b[0m\u001b[0;34m)\u001b[0m\u001b[0;34m\u001b[0m\u001b[0;34m\u001b[0m\u001b[0m\n",
            "\u001b[0;31mTypeError\u001b[0m: 'str' object is not callable"
          ]
        }
      ]
    },
    {
      "cell_type": "code",
      "source": [
        "# 10: Write code to demonstrate type casting with list elements\n",
        "\n",
        "# List of numbers as strings\n",
        "str_list = [\"10\", \"20\", \"0\"]\n",
        "\n",
        "# Convert to integer\n",
        "int_list = [int(x) for x in str_list]\n",
        "print(\"Integer List:\", int_list)\n",
        "\n",
        "# Convert to float\n",
        "float_list = [float(x) for x in str_list]\n",
        "print(\"Float List:\", float_list)\n",
        "\n",
        "# Convert to boolean (0 → False, others → True)\n",
        "bool_list = [bool(int(x)) for x in str_list]\n",
        "print(\"Boolean List:\", bool_list)\n"
      ],
      "metadata": {
        "colab": {
          "base_uri": "https://localhost:8080/"
        },
        "id": "sOUiNjmJgFkD",
        "outputId": "ac1e969d-fa46-4494-ceab-3a6a1e86bb99"
      },
      "execution_count": 30,
      "outputs": [
        {
          "output_type": "stream",
          "name": "stdout",
          "text": [
            "Integer List: [10, 20, 0]\n",
            "Float List: [10.0, 20.0, 0.0]\n",
            "Boolean List: [True, True, False]\n"
          ]
        }
      ]
    },
    {
      "cell_type": "code",
      "source": [
        "#11 :   Write a program that checks if a number is positive, negative, or zero\n",
        "# Get user input\n",
        "num = float(input(\"Enter a number:\"))\n",
        "\n",
        "# Check the number\n",
        "if num > 0:\n",
        "    print(\"Positive\")\n",
        "elif num < 0:\n",
        "    print(\"Negative\")\n",
        "else:\n",
        "    print(\"Zero\")\n"
      ],
      "metadata": {
        "colab": {
          "base_uri": "https://localhost:8080/",
          "height": 211
        },
        "id": "nlWcZfaghqSd",
        "outputId": "ac7e4a73-1592-44ea-cb80-1abc3fba553b"
      },
      "execution_count": 33,
      "outputs": [
        {
          "output_type": "error",
          "ename": "TypeError",
          "evalue": "'str' object is not callable",
          "traceback": [
            "\u001b[0;31m---------------------------------------------------------------------------\u001b[0m",
            "\u001b[0;31mTypeError\u001b[0m                                 Traceback (most recent call last)",
            "\u001b[0;32m<ipython-input-33-472e6fe587f0>\u001b[0m in \u001b[0;36m<cell line: 0>\u001b[0;34m()\u001b[0m\n\u001b[1;32m      1\u001b[0m \u001b[0;31m#11 :   Write a program that checks if a number is positive, negative, or zero\u001b[0m\u001b[0;34m\u001b[0m\u001b[0;34m\u001b[0m\u001b[0m\n\u001b[1;32m      2\u001b[0m \u001b[0;31m# Get user input\u001b[0m\u001b[0;34m\u001b[0m\u001b[0;34m\u001b[0m\u001b[0m\n\u001b[0;32m----> 3\u001b[0;31m \u001b[0mnum\u001b[0m \u001b[0;34m=\u001b[0m \u001b[0mfloat\u001b[0m\u001b[0;34m(\u001b[0m\u001b[0minput\u001b[0m\u001b[0;34m(\u001b[0m\u001b[0;34m\"Enter a number:\"\u001b[0m\u001b[0;34m)\u001b[0m\u001b[0;34m)\u001b[0m\u001b[0;34m\u001b[0m\u001b[0;34m\u001b[0m\u001b[0m\n\u001b[0m\u001b[1;32m      4\u001b[0m \u001b[0;34m\u001b[0m\u001b[0m\n\u001b[1;32m      5\u001b[0m \u001b[0;31m# Check the number\u001b[0m\u001b[0;34m\u001b[0m\u001b[0;34m\u001b[0m\u001b[0m\n",
            "\u001b[0;31mTypeError\u001b[0m: 'str' object is not callable"
          ]
        }
      ]
    },
    {
      "cell_type": "code",
      "source": [
        "#12 :Write a for loop to print numbers from 1 to 10\n",
        "for num in range(1, 10):\n",
        "    print(num)"
      ],
      "metadata": {
        "colab": {
          "base_uri": "https://localhost:8080/"
        },
        "id": "98tZASw2iNC5",
        "outputId": "e1c345b9-c650-4852-b362-a589835907e0"
      },
      "execution_count": 35,
      "outputs": [
        {
          "output_type": "stream",
          "name": "stdout",
          "text": [
            "1\n",
            "2\n",
            "3\n",
            "4\n",
            "5\n",
            "6\n",
            "7\n",
            "8\n",
            "9\n"
          ]
        }
      ]
    },
    {
      "cell_type": "code",
      "source": [
        "#13 :Write a Python program to find the sum of all even numbers between 1 and 50\n",
        "\n",
        "sum_even = sum(num for num in range(2, 51, 2))\n",
        "\n",
        "print(\"Sum of even numbers from 1 to 50:\", sum_even)\n"
      ],
      "metadata": {
        "colab": {
          "base_uri": "https://localhost:8080/"
        },
        "id": "amDMdJTziowF",
        "outputId": "b1e98dbf-4b03-4f39-cb0e-97f10a83103b"
      },
      "execution_count": 36,
      "outputs": [
        {
          "output_type": "stream",
          "name": "stdout",
          "text": [
            "Sum of even numbers from 1 to 50: 650\n"
          ]
        }
      ]
    },
    {
      "cell_type": "code",
      "source": [
        "#14 : Write a program to reverse a string using a while loop\n",
        "# Get user input\n",
        "text = input(\"Enter a string: \")\n",
        "\n",
        "# Initialize variables\n",
        "reversed_text = \"\"\n",
        "i = len(text) - 1  # Start from the last index\n",
        "\n",
        "# Reverse string using while loop\n",
        "while i >= 0:\n",
        "    reversed_text += text[i]\n",
        "    i -= 1  # Move to the previous character\n",
        "\n",
        "print(\"Reversed String:\", reversed_text)\n",
        "\n"
      ],
      "metadata": {
        "colab": {
          "base_uri": "https://localhost:8080/",
          "height": 211
        },
        "id": "V7MgpA7DjqOL",
        "outputId": "b6d59fbc-2a98-415b-c2bb-49c4083c7d4a"
      },
      "execution_count": 40,
      "outputs": [
        {
          "output_type": "error",
          "ename": "TypeError",
          "evalue": "'str' object is not callable",
          "traceback": [
            "\u001b[0;31m---------------------------------------------------------------------------\u001b[0m",
            "\u001b[0;31mTypeError\u001b[0m                                 Traceback (most recent call last)",
            "\u001b[0;32m<ipython-input-40-17a3d35951cc>\u001b[0m in \u001b[0;36m<cell line: 0>\u001b[0;34m()\u001b[0m\n\u001b[1;32m      1\u001b[0m \u001b[0;31m#14 : Write a program to reverse a string using a while loop\u001b[0m\u001b[0;34m\u001b[0m\u001b[0;34m\u001b[0m\u001b[0m\n\u001b[1;32m      2\u001b[0m \u001b[0;31m# Get user input\u001b[0m\u001b[0;34m\u001b[0m\u001b[0;34m\u001b[0m\u001b[0m\n\u001b[0;32m----> 3\u001b[0;31m \u001b[0mtext\u001b[0m \u001b[0;34m=\u001b[0m \u001b[0minput\u001b[0m\u001b[0;34m(\u001b[0m\u001b[0;34m\"Enter a string:  \"\u001b[0m\u001b[0;34m)\u001b[0m\u001b[0;34m\u001b[0m\u001b[0;34m\u001b[0m\u001b[0m\n\u001b[0m\u001b[1;32m      4\u001b[0m \u001b[0;34m\u001b[0m\u001b[0m\n\u001b[1;32m      5\u001b[0m \u001b[0;31m# Initialize variables\u001b[0m\u001b[0;34m\u001b[0m\u001b[0;34m\u001b[0m\u001b[0m\n",
            "\u001b[0;31mTypeError\u001b[0m: 'str' object is not callable"
          ]
        }
      ]
    },
    {
      "cell_type": "code",
      "source": [
        "# 15 : Write a Python program to calculate the factorial of a number provided by the user using a while loop.\n",
        "\n",
        "text = input(\"Enter a string: \")\n",
        "reversed_text = \"\"\n",
        "i = len(text) - 1\n",
        "\n",
        "while i >= 0:\n",
        "    reversed_text += text[i]\n",
        "    i -= 1\n",
        "\n",
        "print(\"Reversed String:\", reversed_text)\n",
        "\n",
        "\n",
        "\n"
      ],
      "metadata": {
        "colab": {
          "base_uri": "https://localhost:8080/",
          "height": 211
        },
        "id": "q0K7R3N_kyNI",
        "outputId": "1c8911f9-ce4d-459e-a64f-dd4d2c77353f"
      },
      "execution_count": 49,
      "outputs": [
        {
          "output_type": "error",
          "ename": "TypeError",
          "evalue": "'str' object is not callable",
          "traceback": [
            "\u001b[0;31m---------------------------------------------------------------------------\u001b[0m",
            "\u001b[0;31mTypeError\u001b[0m                                 Traceback (most recent call last)",
            "\u001b[0;32m<ipython-input-49-267fccc09040>\u001b[0m in \u001b[0;36m<cell line: 0>\u001b[0;34m()\u001b[0m\n\u001b[1;32m      1\u001b[0m \u001b[0;31m# 15 : Write a Python program to calculate the factorial of a number provided by the user using a while loop.\u001b[0m\u001b[0;34m\u001b[0m\u001b[0;34m\u001b[0m\u001b[0m\n\u001b[1;32m      2\u001b[0m \u001b[0;34m\u001b[0m\u001b[0m\n\u001b[0;32m----> 3\u001b[0;31m \u001b[0mtext\u001b[0m \u001b[0;34m=\u001b[0m \u001b[0minput\u001b[0m\u001b[0;34m(\u001b[0m\u001b[0;34m\"Enter a string: \"\u001b[0m\u001b[0;34m)\u001b[0m\u001b[0;34m\u001b[0m\u001b[0;34m\u001b[0m\u001b[0m\n\u001b[0m\u001b[1;32m      4\u001b[0m \u001b[0mreversed_text\u001b[0m \u001b[0;34m=\u001b[0m \u001b[0;34m\"\"\u001b[0m\u001b[0;34m\u001b[0m\u001b[0;34m\u001b[0m\u001b[0m\n\u001b[1;32m      5\u001b[0m \u001b[0mi\u001b[0m \u001b[0;34m=\u001b[0m \u001b[0mlen\u001b[0m\u001b[0;34m(\u001b[0m\u001b[0mtext\u001b[0m\u001b[0;34m)\u001b[0m \u001b[0;34m-\u001b[0m \u001b[0;36m1\u001b[0m\u001b[0;34m\u001b[0m\u001b[0;34m\u001b[0m\u001b[0m\n",
            "\u001b[0;31mTypeError\u001b[0m: 'str' object is not callable"
          ]
        }
      ]
    }
  ]
}